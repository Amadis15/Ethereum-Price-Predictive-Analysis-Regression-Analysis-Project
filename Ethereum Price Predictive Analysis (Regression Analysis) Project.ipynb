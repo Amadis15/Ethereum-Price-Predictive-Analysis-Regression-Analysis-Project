{
 "cells": [
  {
   "cell_type": "code",
   "execution_count": 46,
   "id": "8fcdee64",
   "metadata": {},
   "outputs": [],
   "source": [
    "#Importing Libraries\n",
    "\n",
    "import pandas as pd\n",
    "import seaborn as sns\n",
    "import numpy as np \n",
    "import matplotlib.pyplot as plt"
   ]
  },
  {
   "cell_type": "code",
   "execution_count": 47,
   "id": "0cf702aa",
   "metadata": {},
   "outputs": [],
   "source": [
    "data=pd.read_csv(r'C:\\Users\\merad\\Downloads/ETH Project.csv')"
   ]
  },
  {
   "cell_type": "code",
   "execution_count": 48,
   "id": "985c8228",
   "metadata": {},
   "outputs": [
    {
     "data": {
      "text/html": [
       "<div>\n",
       "<style scoped>\n",
       "    .dataframe tbody tr th:only-of-type {\n",
       "        vertical-align: middle;\n",
       "    }\n",
       "\n",
       "    .dataframe tbody tr th {\n",
       "        vertical-align: top;\n",
       "    }\n",
       "\n",
       "    .dataframe thead th {\n",
       "        text-align: right;\n",
       "    }\n",
       "</style>\n",
       "<table border=\"1\" class=\"dataframe\">\n",
       "  <thead>\n",
       "    <tr style=\"text-align: right;\">\n",
       "      <th></th>\n",
       "      <th>Date</th>\n",
       "      <th>Open</th>\n",
       "      <th>High</th>\n",
       "      <th>Low</th>\n",
       "      <th>Close</th>\n",
       "      <th>Adj Close</th>\n",
       "      <th>Volume</th>\n",
       "    </tr>\n",
       "  </thead>\n",
       "  <tbody>\n",
       "    <tr>\n",
       "      <th>0</th>\n",
       "      <td>11/9/2017</td>\n",
       "      <td>308.64</td>\n",
       "      <td>329.45</td>\n",
       "      <td>307.06</td>\n",
       "      <td>320.88</td>\n",
       "      <td>320.88</td>\n",
       "      <td>893249984</td>\n",
       "    </tr>\n",
       "    <tr>\n",
       "      <th>1</th>\n",
       "      <td>11/10/2017</td>\n",
       "      <td>320.67</td>\n",
       "      <td>324.72</td>\n",
       "      <td>294.54</td>\n",
       "      <td>299.25</td>\n",
       "      <td>299.25</td>\n",
       "      <td>885985984</td>\n",
       "    </tr>\n",
       "    <tr>\n",
       "      <th>2</th>\n",
       "      <td>11/11/2017</td>\n",
       "      <td>298.59</td>\n",
       "      <td>319.45</td>\n",
       "      <td>298.19</td>\n",
       "      <td>314.68</td>\n",
       "      <td>314.68</td>\n",
       "      <td>842300992</td>\n",
       "    </tr>\n",
       "    <tr>\n",
       "      <th>3</th>\n",
       "      <td>11/12/2017</td>\n",
       "      <td>314.69</td>\n",
       "      <td>319.15</td>\n",
       "      <td>298.51</td>\n",
       "      <td>307.91</td>\n",
       "      <td>307.91</td>\n",
       "      <td>1613479936</td>\n",
       "    </tr>\n",
       "    <tr>\n",
       "      <th>4</th>\n",
       "      <td>11/13/2017</td>\n",
       "      <td>307.02</td>\n",
       "      <td>328.42</td>\n",
       "      <td>307.02</td>\n",
       "      <td>316.72</td>\n",
       "      <td>316.72</td>\n",
       "      <td>1041889984</td>\n",
       "    </tr>\n",
       "  </tbody>\n",
       "</table>\n",
       "</div>"
      ],
      "text/plain": [
       "         Date    Open    High     Low   Close  Adj Close      Volume\n",
       "0   11/9/2017  308.64  329.45  307.06  320.88     320.88   893249984\n",
       "1  11/10/2017  320.67  324.72  294.54  299.25     299.25   885985984\n",
       "2  11/11/2017  298.59  319.45  298.19  314.68     314.68   842300992\n",
       "3  11/12/2017  314.69  319.15  298.51  307.91     307.91  1613479936\n",
       "4  11/13/2017  307.02  328.42  307.02  316.72     316.72  1041889984"
      ]
     },
     "execution_count": 48,
     "metadata": {},
     "output_type": "execute_result"
    }
   ],
   "source": [
    "data.head()"
   ]
  },
  {
   "cell_type": "code",
   "execution_count": 49,
   "id": "fa062632",
   "metadata": {},
   "outputs": [
    {
     "data": {
      "text/html": [
       "<div>\n",
       "<style scoped>\n",
       "    .dataframe tbody tr th:only-of-type {\n",
       "        vertical-align: middle;\n",
       "    }\n",
       "\n",
       "    .dataframe tbody tr th {\n",
       "        vertical-align: top;\n",
       "    }\n",
       "\n",
       "    .dataframe thead th {\n",
       "        text-align: right;\n",
       "    }\n",
       "</style>\n",
       "<table border=\"1\" class=\"dataframe\">\n",
       "  <thead>\n",
       "    <tr style=\"text-align: right;\">\n",
       "      <th></th>\n",
       "      <th>Date</th>\n",
       "      <th>Open</th>\n",
       "      <th>High</th>\n",
       "      <th>Low</th>\n",
       "      <th>Close</th>\n",
       "      <th>Adj Close</th>\n",
       "      <th>Volume</th>\n",
       "    </tr>\n",
       "  </thead>\n",
       "  <tbody>\n",
       "    <tr>\n",
       "      <th>2381</th>\n",
       "      <td>5/17/2024</td>\n",
       "      <td>2945.14</td>\n",
       "      <td>3120.30</td>\n",
       "      <td>2934.11</td>\n",
       "      <td>3094.12</td>\n",
       "      <td>3094.12</td>\n",
       "      <td>14449438097</td>\n",
       "    </tr>\n",
       "    <tr>\n",
       "      <th>2382</th>\n",
       "      <td>5/18/2024</td>\n",
       "      <td>3094.55</td>\n",
       "      <td>3146.79</td>\n",
       "      <td>3087.70</td>\n",
       "      <td>3122.95</td>\n",
       "      <td>3122.95</td>\n",
       "      <td>9407051320</td>\n",
       "    </tr>\n",
       "    <tr>\n",
       "      <th>2383</th>\n",
       "      <td>5/19/2024</td>\n",
       "      <td>3122.82</td>\n",
       "      <td>3137.15</td>\n",
       "      <td>3056.75</td>\n",
       "      <td>3071.84</td>\n",
       "      <td>3071.84</td>\n",
       "      <td>8747800800</td>\n",
       "    </tr>\n",
       "    <tr>\n",
       "      <th>2384</th>\n",
       "      <td>5/20/2024</td>\n",
       "      <td>3071.86</td>\n",
       "      <td>3690.81</td>\n",
       "      <td>3050.30</td>\n",
       "      <td>3663.86</td>\n",
       "      <td>3663.86</td>\n",
       "      <td>31228143948</td>\n",
       "    </tr>\n",
       "    <tr>\n",
       "      <th>2385</th>\n",
       "      <td>5/21/2024</td>\n",
       "      <td>3661.61</td>\n",
       "      <td>3713.87</td>\n",
       "      <td>3630.29</td>\n",
       "      <td>3656.72</td>\n",
       "      <td>3656.72</td>\n",
       "      <td>38338277376</td>\n",
       "    </tr>\n",
       "  </tbody>\n",
       "</table>\n",
       "</div>"
      ],
      "text/plain": [
       "           Date     Open     High      Low    Close  Adj Close       Volume\n",
       "2381  5/17/2024  2945.14  3120.30  2934.11  3094.12    3094.12  14449438097\n",
       "2382  5/18/2024  3094.55  3146.79  3087.70  3122.95    3122.95   9407051320\n",
       "2383  5/19/2024  3122.82  3137.15  3056.75  3071.84    3071.84   8747800800\n",
       "2384  5/20/2024  3071.86  3690.81  3050.30  3663.86    3663.86  31228143948\n",
       "2385  5/21/2024  3661.61  3713.87  3630.29  3656.72    3656.72  38338277376"
      ]
     },
     "execution_count": 49,
     "metadata": {},
     "output_type": "execute_result"
    }
   ],
   "source": [
    "data.tail()"
   ]
  },
  {
   "cell_type": "code",
   "execution_count": 50,
   "id": "ab1279b3",
   "metadata": {},
   "outputs": [
    {
     "data": {
      "text/plain": [
       "Index(['Date', 'Open', 'High', 'Low', 'Close', 'Adj Close', 'Volume'], dtype='object')"
      ]
     },
     "execution_count": 50,
     "metadata": {},
     "output_type": "execute_result"
    }
   ],
   "source": [
    "data.columns"
   ]
  },
  {
   "cell_type": "code",
   "execution_count": 51,
   "id": "cf9f6a10",
   "metadata": {},
   "outputs": [
    {
     "data": {
      "text/plain": [
       "(2386, 7)"
      ]
     },
     "execution_count": 51,
     "metadata": {},
     "output_type": "execute_result"
    }
   ],
   "source": [
    "data.shape"
   ]
  },
  {
   "cell_type": "code",
   "execution_count": 52,
   "id": "0be33b14",
   "metadata": {},
   "outputs": [
    {
     "data": {
      "text/html": [
       "<div>\n",
       "<style scoped>\n",
       "    .dataframe tbody tr th:only-of-type {\n",
       "        vertical-align: middle;\n",
       "    }\n",
       "\n",
       "    .dataframe tbody tr th {\n",
       "        vertical-align: top;\n",
       "    }\n",
       "\n",
       "    .dataframe thead th {\n",
       "        text-align: right;\n",
       "    }\n",
       "</style>\n",
       "<table border=\"1\" class=\"dataframe\">\n",
       "  <thead>\n",
       "    <tr style=\"text-align: right;\">\n",
       "      <th></th>\n",
       "      <th>Open</th>\n",
       "      <th>High</th>\n",
       "      <th>Low</th>\n",
       "      <th>Close</th>\n",
       "      <th>Adj Close</th>\n",
       "      <th>Volume</th>\n",
       "    </tr>\n",
       "  </thead>\n",
       "  <tbody>\n",
       "    <tr>\n",
       "      <th>count</th>\n",
       "      <td>2386.000000</td>\n",
       "      <td>2386.000000</td>\n",
       "      <td>2386.000000</td>\n",
       "      <td>2386.000000</td>\n",
       "      <td>2386.000000</td>\n",
       "      <td>2.386000e+03</td>\n",
       "    </tr>\n",
       "    <tr>\n",
       "      <th>mean</th>\n",
       "      <td>1342.471329</td>\n",
       "      <td>1380.494757</td>\n",
       "      <td>1300.896513</td>\n",
       "      <td>1343.682410</td>\n",
       "      <td>1343.682410</td>\n",
       "      <td>1.226298e+10</td>\n",
       "    </tr>\n",
       "    <tr>\n",
       "      <th>std</th>\n",
       "      <td>1168.422814</td>\n",
       "      <td>1201.419839</td>\n",
       "      <td>1131.500941</td>\n",
       "      <td>1168.837869</td>\n",
       "      <td>1168.837869</td>\n",
       "      <td>1.006108e+10</td>\n",
       "    </tr>\n",
       "    <tr>\n",
       "      <th>min</th>\n",
       "      <td>84.280000</td>\n",
       "      <td>85.340000</td>\n",
       "      <td>82.830000</td>\n",
       "      <td>84.310000</td>\n",
       "      <td>84.310000</td>\n",
       "      <td>6.217330e+08</td>\n",
       "    </tr>\n",
       "    <tr>\n",
       "      <th>25%</th>\n",
       "      <td>241.602500</td>\n",
       "      <td>246.430000</td>\n",
       "      <td>234.377500</td>\n",
       "      <td>241.615000</td>\n",
       "      <td>241.615000</td>\n",
       "      <td>5.074933e+09</td>\n",
       "    </tr>\n",
       "    <tr>\n",
       "      <th>50%</th>\n",
       "      <td>1200.950000</td>\n",
       "      <td>1226.985000</td>\n",
       "      <td>1162.830000</td>\n",
       "      <td>1201.280000</td>\n",
       "      <td>1201.280000</td>\n",
       "      <td>9.793161e+09</td>\n",
       "    </tr>\n",
       "    <tr>\n",
       "      <th>75%</th>\n",
       "      <td>1981.682500</td>\n",
       "      <td>2043.972500</td>\n",
       "      <td>1932.545000</td>\n",
       "      <td>1989.420000</td>\n",
       "      <td>1989.420000</td>\n",
       "      <td>1.678233e+10</td>\n",
       "    </tr>\n",
       "    <tr>\n",
       "      <th>max</th>\n",
       "      <td>4810.070000</td>\n",
       "      <td>4891.700000</td>\n",
       "      <td>4718.040000</td>\n",
       "      <td>4812.090000</td>\n",
       "      <td>4812.090000</td>\n",
       "      <td>8.448291e+10</td>\n",
       "    </tr>\n",
       "  </tbody>\n",
       "</table>\n",
       "</div>"
      ],
      "text/plain": [
       "              Open         High          Low        Close    Adj Close  \\\n",
       "count  2386.000000  2386.000000  2386.000000  2386.000000  2386.000000   \n",
       "mean   1342.471329  1380.494757  1300.896513  1343.682410  1343.682410   \n",
       "std    1168.422814  1201.419839  1131.500941  1168.837869  1168.837869   \n",
       "min      84.280000    85.340000    82.830000    84.310000    84.310000   \n",
       "25%     241.602500   246.430000   234.377500   241.615000   241.615000   \n",
       "50%    1200.950000  1226.985000  1162.830000  1201.280000  1201.280000   \n",
       "75%    1981.682500  2043.972500  1932.545000  1989.420000  1989.420000   \n",
       "max    4810.070000  4891.700000  4718.040000  4812.090000  4812.090000   \n",
       "\n",
       "             Volume  \n",
       "count  2.386000e+03  \n",
       "mean   1.226298e+10  \n",
       "std    1.006108e+10  \n",
       "min    6.217330e+08  \n",
       "25%    5.074933e+09  \n",
       "50%    9.793161e+09  \n",
       "75%    1.678233e+10  \n",
       "max    8.448291e+10  "
      ]
     },
     "execution_count": 52,
     "metadata": {},
     "output_type": "execute_result"
    }
   ],
   "source": [
    "data.describe()"
   ]
  },
  {
   "cell_type": "code",
   "execution_count": 53,
   "id": "d66fce5d",
   "metadata": {},
   "outputs": [
    {
     "data": {
      "text/plain": [
       "Date         0\n",
       "Open         0\n",
       "High         0\n",
       "Low          0\n",
       "Close        0\n",
       "Adj Close    0\n",
       "Volume       0\n",
       "dtype: int64"
      ]
     },
     "execution_count": 53,
     "metadata": {},
     "output_type": "execute_result"
    }
   ],
   "source": [
    "data.isnull().sum()\n",
    "#Data was cleaned in Excel before I imported it here but I still wanted to confirm that."
   ]
  },
  {
   "cell_type": "code",
   "execution_count": 80,
   "id": "4666b173",
   "metadata": {},
   "outputs": [
    {
     "data": {
      "text/plain": [
       "<seaborn.axisgrid.FacetGrid at 0x26ad22eff10>"
      ]
     },
     "execution_count": 80,
     "metadata": {},
     "output_type": "execute_result"
    },
    {
     "data": {
      "image/png": "[encoded data removed]",
      "text/plain": [
       "<Figure size 500x500 with 1 Axes>"
      ]
     },
     "metadata": {},
     "output_type": "display_data"
    }
   ],
   "source": [
    "sns.relplot(data=data, x='Volume' , y='High')"
   ]
  },
  {
   "cell_type": "code",
   "execution_count": 82,
   "id": "d0c44242",
   "metadata": {},
   "outputs": [
    {
     "data": {
      "text/html": [
       "<div>\n",
       "<style scoped>\n",
       "    .dataframe tbody tr th:only-of-type {\n",
       "        vertical-align: middle;\n",
       "    }\n",
       "\n",
       "    .dataframe tbody tr th {\n",
       "        vertical-align: top;\n",
       "    }\n",
       "\n",
       "    .dataframe thead th {\n",
       "        text-align: right;\n",
       "    }\n",
       "</style>\n",
       "<table border=\"1\" class=\"dataframe\">\n",
       "  <thead>\n",
       "    <tr style=\"text-align: right;\">\n",
       "      <th></th>\n",
       "      <th>Date</th>\n",
       "      <th>Open</th>\n",
       "      <th>High</th>\n",
       "      <th>Low</th>\n",
       "      <th>Close</th>\n",
       "      <th>Adj Close</th>\n",
       "      <th>Volume</th>\n",
       "    </tr>\n",
       "  </thead>\n",
       "  <tbody>\n",
       "    <tr>\n",
       "      <th>0</th>\n",
       "      <td>11/9/2017</td>\n",
       "      <td>308.64</td>\n",
       "      <td>329.45</td>\n",
       "      <td>307.06</td>\n",
       "      <td>320.88</td>\n",
       "      <td>320.88</td>\n",
       "      <td>893249984</td>\n",
       "    </tr>\n",
       "    <tr>\n",
       "      <th>1</th>\n",
       "      <td>11/10/2017</td>\n",
       "      <td>320.67</td>\n",
       "      <td>324.72</td>\n",
       "      <td>294.54</td>\n",
       "      <td>299.25</td>\n",
       "      <td>299.25</td>\n",
       "      <td>885985984</td>\n",
       "    </tr>\n",
       "    <tr>\n",
       "      <th>2</th>\n",
       "      <td>11/11/2017</td>\n",
       "      <td>298.59</td>\n",
       "      <td>319.45</td>\n",
       "      <td>298.19</td>\n",
       "      <td>314.68</td>\n",
       "      <td>314.68</td>\n",
       "      <td>842300992</td>\n",
       "    </tr>\n",
       "    <tr>\n",
       "      <th>3</th>\n",
       "      <td>11/12/2017</td>\n",
       "      <td>314.69</td>\n",
       "      <td>319.15</td>\n",
       "      <td>298.51</td>\n",
       "      <td>307.91</td>\n",
       "      <td>307.91</td>\n",
       "      <td>1613479936</td>\n",
       "    </tr>\n",
       "    <tr>\n",
       "      <th>4</th>\n",
       "      <td>11/13/2017</td>\n",
       "      <td>307.02</td>\n",
       "      <td>328.42</td>\n",
       "      <td>307.02</td>\n",
       "      <td>316.72</td>\n",
       "      <td>316.72</td>\n",
       "      <td>1041889984</td>\n",
       "    </tr>\n",
       "  </tbody>\n",
       "</table>\n",
       "</div>"
      ],
      "text/plain": [
       "         Date    Open    High     Low   Close  Adj Close      Volume\n",
       "0   11/9/2017  308.64  329.45  307.06  320.88     320.88   893249984\n",
       "1  11/10/2017  320.67  324.72  294.54  299.25     299.25   885985984\n",
       "2  11/11/2017  298.59  319.45  298.19  314.68     314.68   842300992\n",
       "3  11/12/2017  314.69  319.15  298.51  307.91     307.91  1613479936\n",
       "4  11/13/2017  307.02  328.42  307.02  316.72     316.72  1041889984"
      ]
     },
     "execution_count": 82,
     "metadata": {},
     "output_type": "execute_result"
    }
   ],
   "source": [
    "data.head()"
   ]
  },
  {
   "cell_type": "code",
   "execution_count": 163,
   "id": "84da0a0a",
   "metadata": {},
   "outputs": [],
   "source": [
    "#model\n",
    "from sklearn.linear_model import LinearRegression\n",
    "from sklearn.model_selection import train_test_split\n",
    "from sklearn.metrics import r2_score\n"
   ]
  },
  {
   "cell_type": "code",
   "execution_count": 164,
   "id": "dd3c50c9",
   "metadata": {},
   "outputs": [],
   "source": [
    "x = data[['Volume']]\n",
    "y = data['High']"
   ]
  },
  {
   "cell_type": "code",
   "execution_count": 165,
   "id": "2dbec456",
   "metadata": {},
   "outputs": [],
   "source": [
    "X_train, x_test, y_train, y_test = train_test_split(x, y, test_size=0.3, random_state=42)"
   ]
  },
  {
   "cell_type": "code",
   "execution_count": 166,
   "id": "ffa62fd3",
   "metadata": {},
   "outputs": [],
   "source": [
    "regr=LinearRegression()"
   ]
  },
  {
   "cell_type": "code",
   "execution_count": 167,
   "id": "652684ce",
   "metadata": {},
   "outputs": [
    {
     "data": {
      "text/html": [
       "<style>#sk-container-id-10 {color: black;background-color: white;}#sk-container-id-10 pre{padding: 0;}#sk-container-id-10 div.sk-toggleable {background-color: white;}#sk-container-id-10 label.sk-toggleable__label {cursor: pointer;display: block;width: 100%;margin-bottom: 0;padding: 0.3em;box-sizing: border-box;text-align: center;}#sk-container-id-10 label.sk-toggleable__label-arrow:before {content: \"▸\";float: left;margin-right: 0.25em;color: #696969;}#sk-container-id-10 label.sk-toggleable__label-arrow:hover:before {color: black;}#sk-container-id-10 div.sk-estimator:hover label.sk-toggleable__label-arrow:before {color: black;}#sk-container-id-10 div.sk-toggleable__content {max-height: 0;max-width: 0;overflow: hidden;text-align: left;background-color: #f0f8ff;}#sk-container-id-10 div.sk-toggleable__content pre {margin: 0.2em;color: black;border-radius: 0.25em;background-color: #f0f8ff;}#sk-container-id-10 input.sk-toggleable__control:checked~div.sk-toggleable__content {max-height: 200px;max-width: 100%;overflow: auto;}#sk-container-id-10 input.sk-toggleable__control:checked~label.sk-toggleable__label-arrow:before {content: \"▾\";}#sk-container-id-10 div.sk-estimator input.sk-toggleable__control:checked~label.sk-toggleable__label {background-color: #d4ebff;}#sk-container-id-10 div.sk-label input.sk-toggleable__control:checked~label.sk-toggleable__label {background-color: #d4ebff;}#sk-container-id-10 input.sk-hidden--visually {border: 0;clip: rect(1px 1px 1px 1px);clip: rect(1px, 1px, 1px, 1px);height: 1px;margin: -1px;overflow: hidden;padding: 0;position: absolute;width: 1px;}#sk-container-id-10 div.sk-estimator {font-family: monospace;background-color: #f0f8ff;border: 1px dotted black;border-radius: 0.25em;box-sizing: border-box;margin-bottom: 0.5em;}#sk-container-id-10 div.sk-estimator:hover {background-color: #d4ebff;}#sk-container-id-10 div.sk-parallel-item::after {content: \"\";width: 100%;border-bottom: 1px solid gray;flex-grow: 1;}#sk-container-id-10 div.sk-label:hover label.sk-toggleable__label {background-color: #d4ebff;}#sk-container-id-10 div.sk-serial::before {content: \"\";position: absolute;border-left: 1px solid gray;box-sizing: border-box;top: 0;bottom: 0;left: 50%;z-index: 0;}#sk-container-id-10 div.sk-serial {display: flex;flex-direction: column;align-items: center;background-color: white;padding-right: 0.2em;padding-left: 0.2em;position: relative;}#sk-container-id-10 div.sk-item {position: relative;z-index: 1;}#sk-container-id-10 div.sk-parallel {display: flex;align-items: stretch;justify-content: center;background-color: white;position: relative;}#sk-container-id-10 div.sk-item::before, #sk-container-id-10 div.sk-parallel-item::before {content: \"\";position: absolute;border-left: 1px solid gray;box-sizing: border-box;top: 0;bottom: 0;left: 50%;z-index: -1;}#sk-container-id-10 div.sk-parallel-item {display: flex;flex-direction: column;z-index: 1;position: relative;background-color: white;}#sk-container-id-10 div.sk-parallel-item:first-child::after {align-self: flex-end;width: 50%;}#sk-container-id-10 div.sk-parallel-item:last-child::after {align-self: flex-start;width: 50%;}#sk-container-id-10 div.sk-parallel-item:only-child::after {width: 0;}#sk-container-id-10 div.sk-dashed-wrapped {border: 1px dashed gray;margin: 0 0.4em 0.5em 0.4em;box-sizing: border-box;padding-bottom: 0.4em;background-color: white;}#sk-container-id-10 div.sk-label label {font-family: monospace;font-weight: bold;display: inline-block;line-height: 1.2em;}#sk-container-id-10 div.sk-label-container {text-align: center;}#sk-container-id-10 div.sk-container {/* jupyter's `normalize.less` sets `[hidden] { display: none; }` but bootstrap.min.css set `[hidden] { display: none !important; }` so we also need the `!important` here to be able to override the default hidden behavior on the sphinx rendered scikit-learn.org. See: https://github.com/scikit-learn/scikit-learn/issues/21755 */display: inline-block !important;position: relative;}#sk-container-id-10 div.sk-text-repr-fallback {display: none;}</style><div id=\"sk-container-id-10\" class=\"sk-top-container\"><div class=\"sk-text-repr-fallback\"><pre>LinearRegression()</pre><b>In a Jupyter environment, please rerun this cell to show the HTML representation or trust the notebook. <br />On GitHub, the HTML representation is unable to render, please try loading this page with nbviewer.org.</b></div><div class=\"sk-container\" hidden><div class=\"sk-item\"><div class=\"sk-estimator sk-toggleable\"><input class=\"sk-toggleable__control sk-hidden--visually\" id=\"sk-estimator-id-10\" type=\"checkbox\" checked><label for=\"sk-estimator-id-10\" class=\"sk-toggleable__label sk-toggleable__label-arrow\">LinearRegression</label><div class=\"sk-toggleable__content\"><pre>LinearRegression()</pre></div></div></div></div></div>"
      ],
      "text/plain": [
       "LinearRegression()"
      ]
     },
     "execution_count": 167,
     "metadata": {},
     "output_type": "execute_result"
    }
   ],
   "source": [
    "regr.fit(X_train, y_train)"
   ]
  },
  {
   "cell_type": "code",
   "execution_count": 168,
   "id": "23adf2a9",
   "metadata": {},
   "outputs": [],
   "source": [
    "pred = regr.predict(x_test)"
   ]
  },
  {
   "cell_type": "code",
   "execution_count": 169,
   "id": "8d848c54",
   "metadata": {},
   "outputs": [
    {
     "data": {
      "text/plain": [
       "array([1576.01181685, 1863.34438774, 1316.30104502, 1222.85874738,\n",
       "        754.1881676 , 1273.3341885 , 1650.95815064, 1150.39004142,\n",
       "       1224.1795688 ,  815.79422666, 1142.09508434, 1487.48062254,\n",
       "       1946.40725271,  959.75903605, 2025.67278514,  920.31971987,\n",
       "       1930.43126574, 2315.89278568, 1531.30215378, 1246.78628123,\n",
       "       1026.94971969,  770.86297288, 1760.68992275, 1664.00962652,\n",
       "       1270.78788531, 1174.96815509, 1322.04720604,  977.61209467,\n",
       "       1294.03660647, 1561.24747476, 2210.25379081, 1047.98395519,\n",
       "       1338.61114272, 1855.71312323, 1584.22780359, 1374.55303116,\n",
       "        828.68180874,  922.79556346, 1373.27196989, 2059.47417638,\n",
       "       2281.81949838, 1272.8691071 , 2075.43653335,  935.44167279,\n",
       "       1180.15000712, 2767.45592851, 1554.78531691,  763.95532112,\n",
       "       1310.93897981,  914.25156487, 1053.25540099, 1449.02351953,\n",
       "       1726.25376432,  831.28738945, 1110.22893883, 4328.3545656 ,\n",
       "       2128.72464416,  782.99923453, 1765.15165473, 1248.12883424,\n",
       "        802.09830313, 1733.12706336, 1407.74776324,  925.55935195,\n",
       "       1318.96968309,  864.90296094, 1495.09450513, 1116.94885488,\n",
       "       1066.51834898,  935.63415452, 1187.67373788, 1038.40853163,\n",
       "       1062.1735041 , 2914.78564331,  995.0381436 ,  840.66082661,\n",
       "       1393.20345642, 1017.72228201,  999.54309585,  771.32535106,\n",
       "        813.14488745, 1082.71879218, 1395.56768839, 1527.84479258,\n",
       "       1985.62332902, 1276.23679951, 1945.65281165, 2478.58459838,\n",
       "       1066.50169858, 1209.81547323, 2968.22872746, 1588.62761262,\n",
       "        937.59348425, 1764.21749118, 1775.2679634 , 1514.68696914,\n",
       "       1374.02075611, 1049.74337414, 1585.75808378, 1470.2154114 ,\n",
       "       1199.24276752,  747.53739448, 1551.41676572,  789.11523318,\n",
       "        824.74054774, 2015.0060135 , 1762.06565637, 1511.91381352,\n",
       "       2007.95576145, 1892.40689127, 1024.16554126, 1142.73513117,\n",
       "       1314.34102815, 1303.45875838, 2406.76399818, 1810.29520065,\n",
       "        933.15899691,  871.05510717, 1212.83964725,  756.00498694,\n",
       "       1142.37829892, 1079.81374249, 1410.5212549 , 1157.54626197,\n",
       "       1009.20406901, 1061.66717635, 2117.13057487, 1031.89471447,\n",
       "       1288.99128643,  851.08447963, 1072.32957431,  761.53659187,\n",
       "       2336.92984321, 2140.21904585, 1302.47220405, 1355.65316163,\n",
       "       1060.47573553, 1186.35394555, 1340.57810058, 1827.83861598,\n",
       "       1625.60018495, 1248.97191997, 2308.21742944, 1044.41497216,\n",
       "       1108.34567556, 1499.14924465, 1454.2087597 , 1001.47315173,\n",
       "       1962.42703507, 1123.25625696,  812.89910776, 1279.9895422 ,\n",
       "       1009.16183012, 1908.89699036, 1018.84995889,  804.74034283,\n",
       "        756.91748329, 1167.28637507,  952.14455779,  778.10456443,\n",
       "        758.81720283,  800.76365923, 1310.79319962, 2047.68342326,\n",
       "       1715.25173481,  804.88005081, 2399.35828829, 1325.38144229,\n",
       "       1565.86369207,  962.15367294, 1261.47666289,  773.90871124,\n",
       "       1240.61721061,  923.48533626, 1236.01699788, 1498.24985888,\n",
       "       1405.47861047,  822.03048976, 1725.85360455,  772.77145145,\n",
       "       1167.21566781, 1141.68147292,  875.29278883,  758.63388716,\n",
       "       1760.80849614, 2304.87926578,  763.36158643,  789.84091473,\n",
       "       1725.59677536, 1549.07719695, 1291.00204843, 2503.78956605,\n",
       "        844.75250261, 1452.5068999 , 1269.84674201,  740.48846424,\n",
       "       1859.31306897, 1200.59770421, 1789.41274511, 1159.39143362,\n",
       "       1187.00596832,  763.00838554, 1322.01383909, 1705.66259116,\n",
       "       1458.90016567, 2364.99361119, 1748.96969229, 1161.1976081 ,\n",
       "        817.61759251,  932.19141959,  863.22838261, 1589.17583009,\n",
       "       1490.35140873,  921.08956216, 1347.97971364, 1500.76402294,\n",
       "       1449.63282282, 3125.59614675, 1718.57183945, 1000.98361594,\n",
       "        962.2951825 , 1117.5065525 , 1093.08638407,  806.79419124,\n",
       "        762.53841408,  723.88809344,  776.01043027, 1541.96515249,\n",
       "       1611.15751382, 1599.70076349, 2136.7623865 ,  777.98838421,\n",
       "       1069.50450536,  756.16320061, 1349.79794615, 1490.73701655,\n",
       "       1143.40457936, 1125.37264599, 1853.97267429, 1813.94297   ,\n",
       "       1308.48636577, 3115.4464176 ,  752.64982603, 2537.20713049,\n",
       "       1777.2874529 , 1970.68331847, 1042.47031915,  732.72844866,\n",
       "        870.01005342,  807.82111545,  947.46575455, 1183.00881859,\n",
       "       1711.64489269, 1809.47357481,  790.94197637, 2186.627729  ,\n",
       "       1325.51547236,  968.23246626, 1107.75541863,  751.58903799,\n",
       "        969.37804097, 3453.52044787,  909.58424858,  792.77781721,\n",
       "       1145.28537473, 1075.61173832, 1225.58057844,  806.65882075,\n",
       "       1232.33791916, 1784.90275638, 3471.34926148, 1015.49216295,\n",
       "       2155.86266335,  902.03975488,  747.64248417, 1015.02550351,\n",
       "       1220.97634635, 1769.56855056,  865.55650676, 1642.64089648,\n",
       "       1113.37101935, 1061.02073603, 2996.19348037, 1596.58321032,\n",
       "        999.49566525, 1647.08740279,  769.1109556 , 1269.21114411,\n",
       "       1004.15992599, 1008.46914842,  936.25391176,  960.94119952,\n",
       "       1244.0802398 , 1134.00183974, 2937.29115691,  854.44600916,\n",
       "       1046.22186753, 1370.86959558, 1537.70030751, 1636.1871482 ,\n",
       "       1016.15781462, 1354.77958451, 1581.27876357,  750.46987634,\n",
       "       1413.02016649, 1024.72786874, 1209.0574725 , 1062.50725644,\n",
       "       1553.57878739, 1018.95173744,  823.63870438, 1137.51767503,\n",
       "       1356.74997255, 2422.0030674 ,  759.1149473 , 1444.36918269,\n",
       "        832.94985067,  887.10417336,  828.03843891, 2165.55337706,\n",
       "       1462.21334433,  742.1844338 , 1357.79181009, 1740.45098714,\n",
       "       3307.19201012,  975.52254162, 2295.1068569 ,  964.75581204,\n",
       "        787.69890995, 1827.39004136,  918.87298896,  738.78548614,\n",
       "       1089.0215006 ,  866.05250165, 1196.97854135, 1560.19514748,\n",
       "        807.5880515 , 1481.22484095, 1174.9062708 , 1979.4143272 ,\n",
       "       1419.49811753,  757.03891314, 1024.11970767, 1236.01859595,\n",
       "       2046.092446  ,  759.75404719, 1447.85964655,  940.87209145,\n",
       "        901.96858303, 1193.31913069,  749.86796736,  734.84417915,\n",
       "       1689.74506176, 1928.76950072, 1065.72224426, 1397.04950242,\n",
       "       1883.07302954,  898.59727858,  809.72261019, 1852.1254798 ,\n",
       "       2194.15802185, 1931.49542155, 1217.44834211,  842.54968908,\n",
       "        802.93110696, 2199.06456392, 1746.14392883, 1204.09037021,\n",
       "        745.05911465, 1158.94615735,  902.34133953, 1260.01606566,\n",
       "        756.91573185, 1378.51969587, 1417.64062046, 1629.60097398,\n",
       "       1396.01941127, 1378.05899724, 1719.624116  , 2209.4574685 ,\n",
       "        916.40410832, 1350.57125341,  961.46473324,  753.13146997,\n",
       "        747.7843474 ,  983.42253537,  744.23594323,  727.04505104,\n",
       "       1242.03018108, 1449.2368941 , 1832.38620832, 1712.20536786,\n",
       "       1030.64862294,  794.26269992,  738.8853178 ,  837.98564875,\n",
       "       1602.18783855, 2397.25630841, 2007.76013899, 1122.29799183,\n",
       "       1040.89321925,  961.7744721 ,  742.35607606, 1174.927534  ,\n",
       "       1625.12157233, 1129.44116012, 1987.89527929,  754.50692645,\n",
       "       3211.75729107,  777.79572663,  916.54643743, 1016.91832381,\n",
       "        803.78465009, 1416.99404155, 1381.3171675 , 1285.70882824,\n",
       "       1016.60896023,  845.52887675, 1623.46619472, 1352.22716292,\n",
       "       1009.12270294,  824.12870651,  809.16570287, 2484.22546293,\n",
       "       1255.74819794, 1379.01068353,  749.75178901, 1205.13268542,\n",
       "       1311.15738327, 1144.08367076, 1328.33324666, 1020.61655503,\n",
       "       1627.80561407, 1016.81734462,  849.64649742, 1253.02856189,\n",
       "        797.28741922, 1306.6286726 , 1353.91995994, 1895.95399506,\n",
       "       1604.6296072 ,  795.34332351, 1068.48730867, 1157.33484935,\n",
       "        784.8370692 , 1692.84343189, 1102.95537265, 2217.10709059,\n",
       "        943.34878132, 1524.57020522,  959.5095979 , 1002.74489999,\n",
       "       1311.28889641, 1045.69995098, 1723.31551832, 2260.52656206,\n",
       "        748.77507347, 2005.62399718, 2743.62704807,  958.94406232,\n",
       "       2942.61075117, 2347.00783514, 1035.03291165,  784.2287383 ,\n",
       "        833.10713065,  824.57735814, 1664.50286185,  798.70607396,\n",
       "        752.87050653, 1787.15818305, 2281.6910959 , 1078.19514076,\n",
       "       1648.33760632, 2198.37769237, 1194.54245073, 1670.63468948,\n",
       "       2669.02288471,  772.86369263, 1198.72137084,  969.06730053,\n",
       "        770.4659815 , 1329.45525386, 3145.00109036, 1010.44437818,\n",
       "       1288.35120539,  836.74896884, 2180.7812621 , 1288.50831151,\n",
       "       1749.34109815, 2723.84016221, 1771.90172018, 1060.28285698,\n",
       "        756.35877631, 1389.0141304 ,  847.21040481, 1825.01355292,\n",
       "        820.85820004, 1972.14664274, 5245.31271758,  856.98641971,\n",
       "       1094.300893  , 2216.10873365, 1756.93657605, 1962.22556504,\n",
       "       1003.84204169, 1570.22619372, 1430.82850491,  933.08888812,\n",
       "       1734.78106627, 1410.90366233, 1684.06964986, 1614.13642954,\n",
       "       1408.88808535, 2071.40312815,  748.26015417, 2443.42047541,\n",
       "       1062.2655068 , 1363.07649257, 3321.00961203,  924.57717813,\n",
       "       1433.93593077,  774.06342391, 1475.76710672, 2279.96272478,\n",
       "        745.46428218, 2326.86827691,  806.67100996, 1283.44888567,\n",
       "       1247.40103252,  939.67367981, 1422.65145065, 1007.70075195,\n",
       "        806.26526796, 1699.41208005,  961.20064611, 2491.46745434,\n",
       "       1945.2296102 , 1132.65192552, 1402.56355548, 1722.63859432,\n",
       "       1993.47304504, 1420.02365319, 2952.87038101, 1238.52651737,\n",
       "       1029.67965632, 1659.74140676,  974.74763133,  723.43126006,\n",
       "       1369.14491122, 1438.47435775, 1673.01431088, 1093.18307715,\n",
       "       1907.76507629, 1194.01477663,  981.4157187 , 1545.07892006,\n",
       "        756.04351845,  736.13848779, 1402.67659066,  759.93403391,\n",
       "        742.55164989,  951.20099938, 1561.71685027, 1539.93113865,\n",
       "       1901.7623171 , 1544.01839678,  846.67230887, 2015.04446585,\n",
       "       1035.64318623, 3232.34017055, 1718.69759009,  715.09263282,\n",
       "       3903.46549502, 1111.81294293,  877.32759736, 1139.16454079,\n",
       "        773.46326637, 2059.38525568, 1607.09095622, 1429.36454131,\n",
       "       1627.28368572, 1054.49053497,  793.24569676, 1124.0679241 ,\n",
       "       1718.34057978, 1112.41176419, 1704.07675728, 1117.99557932,\n",
       "        793.36829704, 2415.70963159, 1220.97881797, 1060.29892509,\n",
       "       3115.07582388, 1384.43162046, 2556.95687373,  704.63739703,\n",
       "        833.92038196,  760.93118283,  866.70337233,  793.88088576,\n",
       "       1620.88158093,  757.83581774, 2092.1026486 , 1031.12731777,\n",
       "       2448.76876998, 1556.08949563,  767.46752715, 1344.18641939,\n",
       "       1284.73217108, 1404.45017285, 1889.7037062 , 1848.38798706,\n",
       "       1259.8482215 , 1053.44462652, 1144.79162109, 1886.61267258,\n",
       "       2502.73985407, 1025.6531757 , 1333.66752049, 1454.14972609,\n",
       "        843.3133174 , 1239.08460831, 2330.40102654, 1670.02592995,\n",
       "       1610.64476367, 1591.76806046, 1758.32615415, 1108.53898036,\n",
       "       1533.47731056,  951.81447406,  934.07546014, 1718.08699307,\n",
       "        818.90447449, 2261.00529366,  808.43555289,  906.79457315,\n",
       "       1090.77963265, 2690.49927267, 1396.58146325, 1747.78296289,\n",
       "       3539.18832983, 1970.01230386,  917.44301495, 1973.50595773,\n",
       "       1755.94342968, 2345.40696054, 1152.27233678,  778.11915877,\n",
       "       2231.37460738, 1849.72248967, 1300.87221824,  825.14745643,\n",
       "        982.42402091, 1512.380755  , 1265.72969697,  767.25502374,\n",
       "       1248.03102724, 1403.26992392, 1287.98108928, 1032.47359176,\n",
       "        804.4099115 , 1410.06355053, 1219.40288581, 1422.93753256,\n",
       "        993.51558804, 1845.32149195, 1585.59254358,  779.46425895,\n",
       "       1500.17413118, 1033.159169  , 1261.2850208 ,  834.69509614,\n",
       "       2259.45191628,  906.73121076,  960.47484921,  761.57453864,\n",
       "        968.69090384, 1697.07576352, 1171.92252649,  954.83287898,\n",
       "       2005.87798514, 2019.48497315,  824.564235  , 2970.50946187,\n",
       "       1234.673248  ,  812.35149039, 1006.31811431, 1119.71076864,\n",
       "       1777.07277468,  887.71038146, 1092.46744982, 1370.33399326,\n",
       "       1238.98304589, 1654.69298517,  749.19074679, 1102.65932346,\n",
       "       1013.31035616, 2288.62108128,  939.68086985, 1093.43425663,\n",
       "       1234.4513753 ,  797.48528579, 1345.56130069,  835.66304267,\n",
       "        958.87770072,  852.16835838,  879.54462201, 1485.53351232,\n",
       "        771.75853871, 3798.26402673, 1435.31509118,  870.38471875,\n",
       "        773.48194832,  764.74930387, 1653.81860682, 1273.08590076])"
      ]
     },
     "execution_count": 169,
     "metadata": {},
     "output_type": "execute_result"
    }
   ],
   "source": [
    "pred"
   ]
  },
  {
   "cell_type": "code",
   "execution_count": 170,
   "id": "38069758",
   "metadata": {},
   "outputs": [
    {
     "data": {
      "text/plain": [
       "0.22530840612550884"
      ]
     },
     "execution_count": 170,
     "metadata": {},
     "output_type": "execute_result"
    }
   ],
   "source": [
    "regr.score(x_test, y_test)"
   ]
  },
  {
   "cell_type": "code",
   "execution_count": 171,
   "id": "c32b35b1",
   "metadata": {},
   "outputs": [],
   "source": [
    "# In Conclusion the Regression Score indicated that about 22.5% of the variance in the 'high' prices can be explained by the \n",
    "# 'volume' of transactions. This shows that 'volume' alone may not be a strong predictor of the 'high' prices for Ethereum \n",
    "# in this dataset."
   ]
  }
 ],
 "metadata": {
  "kernelspec": {
   "display_name": "Python 3 (ipykernel)",
   "language": "python",
   "name": "python3"
  },
  "language_info": {
   "codemirror_mode": {
    "name": "ipython",
    "version": 3
   },
   "file_extension": ".py",
   "mimetype": "text/x-python",
   "name": "python",
   "nbconvert_exporter": "python",
   "pygments_lexer": "ipython3",
   "version": "3.11.7"
  }
 },
 "nbformat": 4,
 "nbformat_minor": 5
}
